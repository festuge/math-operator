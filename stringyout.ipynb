{
  "nbformat": 4,
  "nbformat_minor": 0,
  "metadata": {
    "colab": {
      "provenance": [],
      "authorship_tag": "ABX9TyOwGU4ZgRxi55Ol0lb3VDow",
      "include_colab_link": true
    },
    "kernelspec": {
      "name": "python3",
      "display_name": "Python 3"
    },
    "language_info": {
      "name": "python"
    }
  },
  "cells": [
    {
      "cell_type": "markdown",
      "metadata": {
        "id": "view-in-github",
        "colab_type": "text"
      },
      "source": [
        "<a href=\"https://colab.research.google.com/github/festuge/math-operator/blob/main/stringyout.ipynb\" target=\"_parent\"><img src=\"https://colab.research.google.com/assets/colab-badge.svg\" alt=\"Open In Colab\"/></a>"
      ]
    },
    {
      "cell_type": "code",
      "execution_count": 2,
      "metadata": {
        "colab": {
          "base_uri": "https://localhost:8080/"
        },
        "id": "WGu8f_flAZQY",
        "outputId": "594d39a0-8c96-4ff6-b9db-67e773ee7774"
      },
      "outputs": [
        {
          "output_type": "stream",
          "name": "stdout",
          "text": [
            "1\n",
            "PYTHON INTRODUCTORY COURSE\n",
            "0\n"
          ]
        }
      ],
      "source": [
        "course = 'python introductory course'\n",
        "print(course.find('y'))\n",
        "print(course.upper())\n",
        "print(course.find('python'))"
      ]
    },
    {
      "cell_type": "code",
      "source": [
        "print(10 + 3)\n",
        "print(12 / 2)\n",
        "print(12 * 2)\n",
        "print(12 - 10)\n",
        "print(12 // 5)\n",
        "print(10 % 90)\n",
        "print(10 % 3)\n",
        "print(10 ** 3)"
      ],
      "metadata": {
        "colab": {
          "base_uri": "https://localhost:8080/"
        },
        "id": "VTcFnafwJONg",
        "outputId": "3bced5df-670a-4ae6-d7f2-2827a4348ca9"
      },
      "execution_count": 8,
      "outputs": [
        {
          "output_type": "stream",
          "name": "stdout",
          "text": [
            "13\n",
            "6.0\n",
            "24\n",
            "2\n",
            "2\n",
            "10\n",
            "1\n",
            "1000\n"
          ]
        }
      ]
    },
    {
      "cell_type": "code",
      "source": [
        "x = 10\n",
        "x = x + 3\n",
        "x += 3\n",
        "x -= 3\n",
        "x *= 3\n",
        "x /= 3\n",
        "\n"
      ],
      "metadata": {
        "id": "NRDVnK59KriV"
      },
      "execution_count": 10,
      "outputs": []
    },
    {
      "cell_type": "code",
      "source": [
        "x = 10 + 3 * 2\n",
        "print(x)"
      ],
      "metadata": {
        "colab": {
          "base_uri": "https://localhost:8080/"
        },
        "id": "AK3uaOjUOEcM",
        "outputId": "6459b0ea-bb1c-4e95-b509-94a82baf75aa"
      },
      "execution_count": 12,
      "outputs": [
        {
          "output_type": "stream",
          "name": "stdout",
          "text": [
            "16\n"
          ]
        }
      ]
    },
    {
      "cell_type": "code",
      "source": [
        "x = 10\n",
        "x += 3\n",
        "print(x)"
      ],
      "metadata": {
        "colab": {
          "base_uri": "https://localhost:8080/"
        },
        "id": "h_nYksfLOM8T",
        "outputId": "396a2607-67b0-46de-a8b5-e653eddccaf0"
      },
      "execution_count": 14,
      "outputs": [
        {
          "output_type": "stream",
          "name": "stdout",
          "text": [
            "13\n"
          ]
        }
      ]
    },
    {
      "cell_type": "code",
      "source": [
        "x = (10 + 3) * 2\n",
        "print(x)"
      ],
      "metadata": {
        "colab": {
          "base_uri": "https://localhost:8080/"
        },
        "id": "XddRg8CdOYbW",
        "outputId": "e834c456-a08d-4e25-9013-5e57589f9561"
      },
      "execution_count": 15,
      "outputs": [
        {
          "output_type": "stream",
          "name": "stdout",
          "text": [
            "26\n"
          ]
        }
      ]
    },
    {
      "cell_type": "code",
      "source": [
        "x = 3 > 2"
      ],
      "metadata": {
        "colab": {
          "base_uri": "https://localhost:8080/"
        },
        "id": "WooxJVdoO6hH",
        "outputId": "9b0f7c12-0305-4112-dc24-07c58083dc32"
      },
      "execution_count": 16,
      "outputs": [
        {
          "output_type": "stream",
          "name": "stdout",
          "text": [
            "True\n"
          ]
        }
      ]
    },
    {
      "cell_type": "code",
      "source": [
        "x = 3 >= 2\n",
        "print(x)"
      ],
      "metadata": {
        "colab": {
          "base_uri": "https://localhost:8080/"
        },
        "id": "JcIAAs19P5KR",
        "outputId": "faaae9da-0d00-4ffa-a1b7-2cdb1b7e29bd"
      },
      "execution_count": 17,
      "outputs": [
        {
          "output_type": "stream",
          "name": "stdout",
          "text": [
            "True\n"
          ]
        }
      ]
    },
    {
      "cell_type": "code",
      "source": [
        "x = 3 <= 2\n",
        "print(x)"
      ],
      "metadata": {
        "colab": {
          "base_uri": "https://localhost:8080/"
        },
        "id": "j5xTIK9AQizU",
        "outputId": "4cf17254-d355-4cda-931c-618741b007af"
      },
      "execution_count": 18,
      "outputs": [
        {
          "output_type": "stream",
          "name": "stdout",
          "text": [
            "False\n"
          ]
        }
      ]
    },
    {
      "cell_type": "code",
      "source": [
        "x = 3 == 2\n",
        "print(x)"
      ],
      "metadata": {
        "colab": {
          "base_uri": "https://localhost:8080/"
        },
        "id": "uB_PNGjgQobS",
        "outputId": "494dfac0-3d6d-4cae-ee16-0816b42637a2"
      },
      "execution_count": 19,
      "outputs": [
        {
          "output_type": "stream",
          "name": "stdout",
          "text": [
            "False\n"
          ]
        }
      ]
    },
    {
      "cell_type": "code",
      "source": [
        "x = 3 != 2\n",
        "print(x)"
      ],
      "metadata": {
        "colab": {
          "base_uri": "https://localhost:8080/"
        },
        "id": "tZ-tcu2DQvaQ",
        "outputId": "5955f256-c7b7-480d-d4a8-335dfb42a66e"
      },
      "execution_count": 20,
      "outputs": [
        {
          "output_type": "stream",
          "name": "stdout",
          "text": [
            "True\n"
          ]
        }
      ]
    },
    {
      "cell_type": "code",
      "source": [
        "price = 25\n",
        "print(price > 10 and price < 30)"
      ],
      "metadata": {
        "colab": {
          "base_uri": "https://localhost:8080/"
        },
        "id": "JmQX8yntRAy6",
        "outputId": "cc12ceca-b50b-45d9-ec28-e46a3019e2af"
      },
      "execution_count": 21,
      "outputs": [
        {
          "output_type": "stream",
          "name": "stdout",
          "text": [
            "True\n"
          ]
        }
      ]
    },
    {
      "cell_type": "code",
      "source": [
        "price = 5\n",
        "print(price > 10 or price < 30)"
      ],
      "metadata": {
        "colab": {
          "base_uri": "https://localhost:8080/"
        },
        "id": "mPLUwHN-THWB",
        "outputId": "0b7226ff-b2e0-44fa-d088-9d47c0fa790e"
      },
      "execution_count": 22,
      "outputs": [
        {
          "output_type": "stream",
          "name": "stdout",
          "text": [
            "True\n"
          ]
        }
      ]
    },
    {
      "cell_type": "code",
      "source": [
        "price = 5\n",
        "print(not price > 10)"
      ],
      "metadata": {
        "colab": {
          "base_uri": "https://localhost:8080/"
        },
        "id": "OrxIVyJFTeE9",
        "outputId": "24b8775b-4e93-42bf-d27c-69bd1eb592a6"
      },
      "execution_count": 23,
      "outputs": [
        {
          "output_type": "stream",
          "name": "stdout",
          "text": [
            "True\n"
          ]
        }
      ]
    },
    {
      "cell_type": "code",
      "source": [],
      "metadata": {
        "id": "VnrL7213T-IS"
      },
      "execution_count": null,
      "outputs": []
    }
  ]
}